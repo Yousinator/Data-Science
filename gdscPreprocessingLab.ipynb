{
  "cells": [
    {
      "cell_type": "code",
      "execution_count": 1,
      "metadata": {
        "id": "-77an-z70IHE"
      },
      "outputs": [],
      "source": [
        "import numpy as np\n",
        "import pandas as pd"
      ]
    },
    {
      "cell_type": "markdown",
      "metadata": {
        "id": "l4VcGuk0qvci"
      },
      "source": [
        "# Task 1: \n",
        "Write a series with values [10,8,9,4,5] \n",
        "\n",
        "and change the index to ['Rami','Salma','Bayan','Waleed','Layan'] then sort the series two times, the first time by values, and the second time by index."
      ]
    },
    {
      "cell_type": "code",
      "execution_count": 17,
      "metadata": {},
      "outputs": [
        {
          "data": {
            "text/plain": [
              "Rami      10\n",
              "Salma      8\n",
              "Bayan      9\n",
              "Waleed     4\n",
              "Layan      5\n",
              "dtype: int64"
            ]
          },
          "execution_count": 17,
          "metadata": {},
          "output_type": "execute_result"
        }
      ],
      "source": [
        "mySeries = pd.Series([10,8,9,4,5],index=['Rami','Salma','Bayan','Waleed','Layan'])\n",
        "mySeries"
      ]
    },
    {
      "cell_type": "markdown",
      "metadata": {
        "id": "LxAPR7p6qxWj"
      },
      "source": [
        "# Task 2:\n",
        "Create a dataframe from the dictionary\n",
        "\n",
        "{'Name':['Ahmad, 'Lina','Dina','Saleem','Alia','Ali','Tasneem'],\n",
        "'Age':[20,21,19,19,22,20,20]\n",
        "'Major':['AI',None,'Cyber security','Cyber security','AI',None,'Computer science'],\n",
        "'City': ['Amman','Amman','Al-salt','Irbid,'Amman',None,'Ajloun']}\n",
        "\n",
        "1- Print the head of the dataframe\n",
        "\n",
        "2- Print the shape of the dataframe\n",
        "\n",
        "3- Print the counts of each value in Major column\n",
        "\n",
        "4-Put the Age column values in a list\n",
        "\n",
        "5- Check the number of null values in each column\n",
        "\n",
        "6- Handle the missing \n",
        "\n",
        "7-Convert the dataframe to a csv file and open it\n",
        "\n"
      ]
    },
    {
      "cell_type": "code",
      "execution_count": 4,
      "metadata": {
        "id": "WsG4B6jo0L5b"
      },
      "outputs": [],
      "source": [
        "dataframe ={'Name':['Ahmad', 'Lina','Dina','Saleem','Alia','Ali','Tasneem'],\n",
        "'Age':[20,21,19,19,22,20,20],\n",
        "'Major':['AI',None,'Cyber security','Cyber security','AI',None,'Computer science'],\n",
        "'City': ['Amman','Amman','Al-salt','Irbid','Amman',None,'Ajloun']}\n",
        "\n",
        "df = pd.DataFrame(dataframe)\n"
      ]
    },
    {
      "cell_type": "code",
      "execution_count": 6,
      "metadata": {},
      "outputs": [
        {
          "name": "stdout",
          "output_type": "stream",
          "text": [
            "     Name  Age           Major     City\n",
            "0   Ahmad   20              AI    Amman\n",
            "1    Lina   21            None    Amman\n",
            "2    Dina   19  Cyber security  Al-salt\n",
            "3  Saleem   19  Cyber security    Irbid\n",
            "4    Alia   22              AI    Amman\n",
            "(7, 4)\n"
          ]
        }
      ],
      "source": [
        "print(df.head(5))\n",
        "print(df.shape)"
      ]
    },
    {
      "cell_type": "code",
      "execution_count": 15,
      "metadata": {},
      "outputs": [
        {
          "data": {
            "text/plain": [
              "5"
            ]
          },
          "execution_count": 15,
          "metadata": {},
          "output_type": "execute_result"
        }
      ],
      "source": [
        "df['Major'].count()"
      ]
    },
    {
      "cell_type": "code",
      "execution_count": 9,
      "metadata": {},
      "outputs": [
        {
          "data": {
            "text/plain": [
              "list"
            ]
          },
          "execution_count": 9,
          "metadata": {},
          "output_type": "execute_result"
        }
      ],
      "source": [
        "mylist = [dataframe['Age']]\n",
        "mylist"
      ]
    },
    {
      "cell_type": "code",
      "execution_count": 10,
      "metadata": {},
      "outputs": [
        {
          "data": {
            "text/html": [
              "<div>\n",
              "<style scoped>\n",
              "    .dataframe tbody tr th:only-of-type {\n",
              "        vertical-align: middle;\n",
              "    }\n",
              "\n",
              "    .dataframe tbody tr th {\n",
              "        vertical-align: top;\n",
              "    }\n",
              "\n",
              "    .dataframe thead th {\n",
              "        text-align: right;\n",
              "    }\n",
              "</style>\n",
              "<table border=\"1\" class=\"dataframe\">\n",
              "  <thead>\n",
              "    <tr style=\"text-align: right;\">\n",
              "      <th></th>\n",
              "      <th>Name</th>\n",
              "      <th>Age</th>\n",
              "      <th>Major</th>\n",
              "      <th>City</th>\n",
              "    </tr>\n",
              "  </thead>\n",
              "  <tbody>\n",
              "    <tr>\n",
              "      <th>0</th>\n",
              "      <td>False</td>\n",
              "      <td>False</td>\n",
              "      <td>False</td>\n",
              "      <td>False</td>\n",
              "    </tr>\n",
              "    <tr>\n",
              "      <th>1</th>\n",
              "      <td>False</td>\n",
              "      <td>False</td>\n",
              "      <td>True</td>\n",
              "      <td>False</td>\n",
              "    </tr>\n",
              "    <tr>\n",
              "      <th>2</th>\n",
              "      <td>False</td>\n",
              "      <td>False</td>\n",
              "      <td>False</td>\n",
              "      <td>False</td>\n",
              "    </tr>\n",
              "    <tr>\n",
              "      <th>3</th>\n",
              "      <td>False</td>\n",
              "      <td>False</td>\n",
              "      <td>False</td>\n",
              "      <td>False</td>\n",
              "    </tr>\n",
              "    <tr>\n",
              "      <th>4</th>\n",
              "      <td>False</td>\n",
              "      <td>False</td>\n",
              "      <td>False</td>\n",
              "      <td>False</td>\n",
              "    </tr>\n",
              "    <tr>\n",
              "      <th>5</th>\n",
              "      <td>False</td>\n",
              "      <td>False</td>\n",
              "      <td>True</td>\n",
              "      <td>True</td>\n",
              "    </tr>\n",
              "    <tr>\n",
              "      <th>6</th>\n",
              "      <td>False</td>\n",
              "      <td>False</td>\n",
              "      <td>False</td>\n",
              "      <td>False</td>\n",
              "    </tr>\n",
              "  </tbody>\n",
              "</table>\n",
              "</div>"
            ],
            "text/plain": [
              "    Name    Age  Major   City\n",
              "0  False  False  False  False\n",
              "1  False  False   True  False\n",
              "2  False  False  False  False\n",
              "3  False  False  False  False\n",
              "4  False  False  False  False\n",
              "5  False  False   True   True\n",
              "6  False  False  False  False"
            ]
          },
          "execution_count": 10,
          "metadata": {},
          "output_type": "execute_result"
        }
      ],
      "source": [
        "df.isnull()"
      ]
    },
    {
      "cell_type": "code",
      "execution_count": 11,
      "metadata": {},
      "outputs": [],
      "source": [
        "df = df.dropna()"
      ]
    },
    {
      "cell_type": "code",
      "execution_count": 12,
      "metadata": {},
      "outputs": [
        {
          "data": {
            "text/html": [
              "<div>\n",
              "<style scoped>\n",
              "    .dataframe tbody tr th:only-of-type {\n",
              "        vertical-align: middle;\n",
              "    }\n",
              "\n",
              "    .dataframe tbody tr th {\n",
              "        vertical-align: top;\n",
              "    }\n",
              "\n",
              "    .dataframe thead th {\n",
              "        text-align: right;\n",
              "    }\n",
              "</style>\n",
              "<table border=\"1\" class=\"dataframe\">\n",
              "  <thead>\n",
              "    <tr style=\"text-align: right;\">\n",
              "      <th></th>\n",
              "      <th>Name</th>\n",
              "      <th>Age</th>\n",
              "      <th>Major</th>\n",
              "      <th>City</th>\n",
              "    </tr>\n",
              "  </thead>\n",
              "  <tbody>\n",
              "    <tr>\n",
              "      <th>0</th>\n",
              "      <td>Ahmad</td>\n",
              "      <td>20</td>\n",
              "      <td>AI</td>\n",
              "      <td>Amman</td>\n",
              "    </tr>\n",
              "    <tr>\n",
              "      <th>2</th>\n",
              "      <td>Dina</td>\n",
              "      <td>19</td>\n",
              "      <td>Cyber security</td>\n",
              "      <td>Al-salt</td>\n",
              "    </tr>\n",
              "    <tr>\n",
              "      <th>3</th>\n",
              "      <td>Saleem</td>\n",
              "      <td>19</td>\n",
              "      <td>Cyber security</td>\n",
              "      <td>Irbid</td>\n",
              "    </tr>\n",
              "    <tr>\n",
              "      <th>4</th>\n",
              "      <td>Alia</td>\n",
              "      <td>22</td>\n",
              "      <td>AI</td>\n",
              "      <td>Amman</td>\n",
              "    </tr>\n",
              "    <tr>\n",
              "      <th>6</th>\n",
              "      <td>Tasneem</td>\n",
              "      <td>20</td>\n",
              "      <td>Computer science</td>\n",
              "      <td>Ajloun</td>\n",
              "    </tr>\n",
              "  </tbody>\n",
              "</table>\n",
              "</div>"
            ],
            "text/plain": [
              "      Name  Age             Major     City\n",
              "0    Ahmad   20                AI    Amman\n",
              "2     Dina   19    Cyber security  Al-salt\n",
              "3   Saleem   19    Cyber security    Irbid\n",
              "4     Alia   22                AI    Amman\n",
              "6  Tasneem   20  Computer science   Ajloun"
            ]
          },
          "execution_count": 12,
          "metadata": {},
          "output_type": "execute_result"
        }
      ],
      "source": [
        "df"
      ]
    },
    {
      "cell_type": "code",
      "execution_count": 13,
      "metadata": {},
      "outputs": [],
      "source": [
        "df.to_csv(\"google.csv\")"
      ]
    }
  ],
  "metadata": {
    "colab": {
      "collapsed_sections": [
        "l4VcGuk0qvci",
        "LxAPR7p6qxWj"
      ],
      "provenance": []
    },
    "kernelspec": {
      "display_name": "Python 3",
      "name": "python3"
    },
    "language_info": {
      "codemirror_mode": {
        "name": "ipython",
        "version": 3
      },
      "file_extension": ".py",
      "mimetype": "text/x-python",
      "name": "python",
      "nbconvert_exporter": "python",
      "pygments_lexer": "ipython3",
      "version": "3.9.13"
    }
  },
  "nbformat": 4,
  "nbformat_minor": 0
}
