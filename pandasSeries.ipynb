{
 "cells": [
  {
   "cell_type": "code",
   "execution_count": 1,
   "metadata": {},
   "outputs": [],
   "source": [
    "import numpy as np\n",
    "import pandas as pd"
   ]
  },
  {
   "cell_type": "code",
   "execution_count": 2,
   "metadata": {},
   "outputs": [
    {
     "data": {
      "text/plain": [
       "A      NaN\n",
       "B     99.0\n",
       "C    120.0\n",
       "D      NaN\n",
       "E      NaN\n",
       "dtype: float64"
      ]
     },
     "execution_count": 2,
     "metadata": {},
     "output_type": "execute_result"
    }
   ],
   "source": [
    "myArray = np.ones(5)\n",
    "arrays = pd.Series(myArray,index=['A','B','C','D','E']) #! This is how you create a series.\n",
    "                                                        #! \"index\" => changes the indexes in the series.\n",
    "arrays[1] = 99\n",
    "arrays[2] = 120\n",
    "arrays.where(arrays > 1)"
   ]
  },
  {
   "cell_type": "code",
   "execution_count": 5,
   "metadata": {},
   "outputs": [
    {
     "data": {
      "text/plain": [
       "A    Not greater than one\n",
       "B                    99.0\n",
       "C                   120.0\n",
       "D    Not greater than one\n",
       "E    Not greater than one\n",
       "dtype: object"
      ]
     },
     "execution_count": 5,
     "metadata": {},
     "output_type": "execute_result"
    }
   ],
   "source": [
    "arrays.where(arrays > 1,'Not greater than one') #! Changes the null values to a certain value."
   ]
  },
  {
   "cell_type": "code",
   "execution_count": 6,
   "metadata": {},
   "outputs": [
    {
     "data": {
      "text/plain": [
       "A      1.0\n",
       "B     99.0\n",
       "C    120.0\n",
       "D      1.0\n",
       "E      1.0\n",
       "dtype: float64"
      ]
     },
     "execution_count": 6,
     "metadata": {},
     "output_type": "execute_result"
    }
   ],
   "source": [
    "arrays.sort_index() #! Sorts a series based on its indexes."
   ]
  },
  {
   "cell_type": "code",
   "execution_count": 7,
   "metadata": {},
   "outputs": [
    {
     "data": {
      "text/plain": [
       "A      1.0\n",
       "D      1.0\n",
       "E      1.0\n",
       "B     99.0\n",
       "C    120.0\n",
       "dtype: float64"
      ]
     },
     "execution_count": 7,
     "metadata": {},
     "output_type": "execute_result"
    }
   ],
   "source": [
    "arrays.sort_values() #! Sorts a series based on the values not the indexes."
   ]
  }
 ],
 "metadata": {
  "kernelspec": {
   "display_name": "base",
   "language": "python",
   "name": "python3"
  },
  "language_info": {
   "codemirror_mode": {
    "name": "ipython",
    "version": 3
   },
   "file_extension": ".py",
   "mimetype": "text/x-python",
   "name": "python",
   "nbconvert_exporter": "python",
   "pygments_lexer": "ipython3",
   "version": "3.9.13"
  },
  "orig_nbformat": 4,
  "vscode": {
   "interpreter": {
    "hash": "7b9f8f88491b8084614e872cefbfd78686eac2e0cce7bd4f2c2497f400bde49f"
   }
  }
 },
 "nbformat": 4,
 "nbformat_minor": 2
}
